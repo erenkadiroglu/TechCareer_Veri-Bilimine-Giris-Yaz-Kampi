{
  "metadata": {
    "kernelspec": {
      "name": "xpython",
      "display_name": "Python 3.13 (XPython)",
      "language": "python"
    },
    "language_info": {
      "file_extension": ".py",
      "mimetype": "text/x-python",
      "name": "python",
      "version": "3.13.1"
    }
  },
  "nbformat_minor": 5,
  "nbformat": 4,
  "cells": [
    {
      "id": "d8f69c2e-47ba-4a62-8f4d-417fd5ec4f73",
      "cell_type": "markdown",
      "source": "Soru 1 - Sayı Analizi",
      "metadata": {}
    },
    {
      "id": "d0a43c3a-19a6-4e49-b355-f4284d65995f",
      "cell_type": "code",
      "source": "sayi = int(input(\"Bir tam sayı girin: \"))\n\nif sayi > 0:\n    durum = \"Pozitif\"\nelif sayi < 0:\n    durum = \"Negatif\"\nelse:\n    durum = \"Sıfır\"\n\nif sayi % 2 == 0:\n    tek_cift = \"Çift\"\nelse:\n    tek_cift = \"Tek\"\n\nprint(durum, tek_cift)\n",
      "metadata": {
        "trusted": true
      },
      "outputs": [],
      "execution_count": null
    },
    {
      "id": "4932f9a6-a476-4729-86d6-05839c51c890",
      "cell_type": "markdown",
      "source": "Soru 2 - Harf Frekansı (String)",
      "metadata": {}
    },
    {
      "id": "313db7c2-d274-4bab-b176-9862441409de",
      "cell_type": "code",
      "source": "kelime = input(\"Bir kelime girin: \").strip().lower() #Alınan kelimeyi küçük harfe çevirme ve boşlukları kaldırma\nharfSayar = {} #Oluşturulan sözlük.\n\nfor harf in kelime:\n    if harf in harfSayar:\n        harfSayar[harf] += 1\n    else:\n        harfSayar[harf] = 1\n\nprint(harfSayar)\n",
      "metadata": {
        "trusted": true,
        "scrolled": true
      },
      "outputs": [],
      "execution_count": null
    },
    {
      "id": "1d691ef8-2629-48b5-8255-a57e1bc956ad",
      "cell_type": "markdown",
      "source": "Soru 3 - Şifre Kontrolü (String Metodları)",
      "metadata": {}
    },
    {
      "id": "a93a843e-0459-45a0-91d7-2f9e85413db2",
      "cell_type": "code",
      "source": "sifre = input(\"Şifre giriniz: \")\n\n# Kontroller\nuzunluk = len(sifre) >= 8\nbuyuk_harf = False #Başlangıçta böyle atıyoruz sonrasında sağlanma durumuan göre yönlendireceğiz.\nrakam = False\n\nfor ch in sifre:\n    if ch.isupper():\n        buyuk_harf = True #Sağladıysa True\n    if ch.isdigit():\n        rakam = True\n\n# Sonuç\nif uzunluk and buyuk_harf and rakam: #Hepsi sağlandıysa\n    print(\"✅ Şifre geçerli\")\nelse: #Sağlanmayan koşullar varsa onların kontrolü\n    print(\"❌ Şifre geçersiz. Eksikler:\")\n    if not uzunluk:\n        print(\"- En az 8 karakter olmalı\")\n    if not buyuk_harf:\n        print(\"- En az 1 büyük harf içermeli\")\n    if not rakam:\n        print(\"- En az 1 rakam içermeli\")\n\n",
      "metadata": {
        "trusted": true
      },
      "outputs": [],
      "execution_count": null
    },
    {
      "id": "2abd3877-0ee4-4144-90a2-132cc17bfa11",
      "cell_type": "markdown",
      "source": "Soru 4 - Liste İşlemleri",
      "metadata": {}
    },
    {
      "id": "ca8e6a49-ff73-48f5-a16f-b9cbc686fc70",
      "cell_type": "code",
      "source": "sayilar = [12, 4, 9, 25, 30, 7, 18] #Kullanılması istenilen liste.\ntoplam = 0\nfor s in sayilar:\n    toplam += s\n\nortalama = toplam / len(sayilar)\n\nortalamaUstu = []\nfor s in sayilar:\n    if s > ortalama:\n        ortalamaUstu.append(s) #s'yi ortalamaUstu listesine ekleme işlemi\n\nprint(\"Ortalama:\", ortalama)\nprint(\"Ortalamadan büyük sayılar:\", ortalamaUstu)\n",
      "metadata": {
        "trusted": true
      },
      "outputs": [],
      "execution_count": null
    },
    {
      "id": "78f2758a-c677-4f94-80a5-0e796c53bc0c",
      "cell_type": "markdown",
      "source": "Soru 5 - Nested Loop (Desen)",
      "metadata": {}
    },
    {
      "id": "6a02f81b-52d9-432f-a04b-3df0549479ab",
      "cell_type": "code",
      "source": "i = 1\nwhile i <= 5:\n    print(\"*\" * i)\n    i += 1\n",
      "metadata": {
        "trusted": true
      },
      "outputs": [],
      "execution_count": null
    },
    {
      "id": "f821fdef-65dc-4c58-bd58-1d41bd27a475",
      "cell_type": "markdown",
      "source": "Soru 6 - While döngüsü",
      "metadata": {}
    },
    {
      "id": "1fab223c-e62c-4de4-b4d4-fb9186d2e336",
      "cell_type": "code",
      "source": "toplam = 0\nadet = 0\nprint(\"Sayıları girin (bitirmek için 0):\")\nwhile True:\n    sayi = int(input(f\"{adet+1}. sayı: \"))\n    if sayi == 0:\n        break\n    toplam += sayi\n    adet += 1\n\nif adet == 0:\n    print(\"Hiç sayı girilmedi.\")\nelse:\n    print(\"Toplam:\", toplam)\n    print(\"Adet:\", adet)\n    print(f\"Ortalamaları: {(toplam / adet):.1f}\")\n",
      "metadata": {
        "trusted": true
      },
      "outputs": [],
      "execution_count": null
    },
    {
      "id": "8e87a74e-11a4-487d-92d0-f0b2dc2be8cd",
      "cell_type": "markdown",
      "source": "Soru 7 - Palindrom kontrolü",
      "metadata": {}
    },
    {
      "id": "212ac356-121a-4598-bb62-eeca1586ee14",
      "cell_type": "code",
      "source": "#NOT: Palindrom, tersten okunuşu da aynı olan kelime veya cümle demektir.\n\nkelime = input(\"Bir kelime girin: \").strip().lower() #Alınan kelimeyi küçük harfe çevirme ve boşlukları kaldırma\nters = \"\"\nfor ch in kelime[::-1]:\n    ters += ch\n\nif kelime == ters:\n    print(\"Palindrom\")\nelse:\n    print(\"Palindrom değil\")\n",
      "metadata": {
        "trusted": true
      },
      "outputs": [],
      "execution_count": null
    },
    {
      "id": "39f4d7a0-9634-442d-abd9-00255d7a394e",
      "cell_type": "markdown",
      "source": "Soru 8 - List Comprehension",
      "metadata": {}
    },
    {
      "id": "02d178b9-2237-41e7-8561-72c6ecc94a31",
      "cell_type": "code",
      "source": "sonuc = []\nfor n in range(1, 101):\n    if n % 3 == 0 and n % 5 == 0: # İkisine de tam bölünebilme durumu\n        sonuc.append(n * n)\n\nprint(sonuc)\n",
      "metadata": {
        "trusted": true,
        "scrolled": true
      },
      "outputs": [],
      "execution_count": null
    },
    {
      "id": "990234c7-7b2e-484c-a094-19c6248c86a0",
      "cell_type": "markdown",
      "source": "Soru 9 - String İşlemleri",
      "metadata": {}
    },
    {
      "id": "292663e4-76a6-4a61-9fcd-47235909e6d7",
      "cell_type": "code",
      "source": "toplam = 0\nadet = 0\n\nprint(\"Sayı girin (bitirmek için 0):\")\nwhile True:\n    sayi = int(input())\n    if sayi == 0:\n        break\n    toplam += sayi\n    adet += 1\n\nif adet == 0:\n    print(\"Hiç sayı girilmedi.\")\nelse:\n    print(\"Toplam:\", toplam)\n    print(\"Adet:\", adet)\n    print(\"Ortalama:\", toplam / adet)\n",
      "metadata": {
        "trusted": true
      },
      "outputs": [],
      "execution_count": null
    },
    {
      "id": "7968701e-f295-403a-8b91-0744fb0529ee",
      "cell_type": "markdown",
      "source": "Mini Proje - Film yorumu analizi",
      "metadata": {}
    },
    {
      "id": "7ddce65d-c7b2-404a-994f-089f10c29a09",
      "cell_type": "code",
      "source": "yorumlar = [] #Alınan yorumları tutacak olan liste.\nadet = int(input(\"Kaç yorum gireceksiniz? \"))\n\nfor i in range(adet):\n    y = input(f\"{i+1}. yorumu girin: \").strip()\n    yorumlar.append(y)\n\n# Uzunluklar\nuzunluklar = []\nfor y in yorumlar:\n    uzunluklar.append(len(y))\n\n# \"iyi\" geçen yorum sayısı (harfleri küçük harfe çevirerek saydırma)\niyi_say = 0\nfor y in yorumlar:\n    if \"iyi\" in y.lower():\n        iyi_say += 1\n\n# En uzun ve en kısa yorumlar\nen_uzun = yorumlar[0]\nen_kisa = yorumlar[0]\nfor y in yorumlar:\n    if len(y) > len(en_uzun):\n        en_uzun = y\n    if len(y) < len(en_kisa):\n        en_kisa = y\n\n# Yorumların ortalama karakter uzunluğu\nortalama = sum(uzunluklar) / len(uzunluklar)\n\nprint(\"Toplam yorum sayısı:\", len(yorumlar))\nprint(\"'iyi' geçen yorum sayısı:\", iyi_say)\nprint(\"En uzun yorum:\", en_uzun)\nprint(\"En kısa yorum:\", en_kisa)\nprint(f\"Ortalama uzunluk: {ortalama:.1f}\",\"Karakter\") #Virgülden sonra 1 basamak olsun diye",
      "metadata": {
        "trusted": true,
        "scrolled": true
      },
      "outputs": [],
      "execution_count": null
    },
    {
      "id": "22ad2936-237b-4ce9-855f-5d94cb539140",
      "cell_type": "code",
      "source": "",
      "metadata": {
        "trusted": true
      },
      "outputs": [],
      "execution_count": null
    }
  ]
}