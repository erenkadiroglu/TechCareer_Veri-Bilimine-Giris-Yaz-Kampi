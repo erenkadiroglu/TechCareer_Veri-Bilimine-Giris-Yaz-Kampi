{
  "cells": [
    {
      "cell_type": "markdown",
      "id": "574aa172-0152-401c-a624-112b52ffec1a",
      "metadata": {},
      "source": [
        "BÖLÜM 1"
      ]
    },
    {
      "cell_type": "code",
      "execution_count": null,
      "id": "80909243-9dcc-4803-afad-8ca7b692c6d9",
      "metadata": {
        "scrolled": true,
        "trusted": true
      },
      "outputs": [],
      "source": [
        "# 1. Kullanıcıdan adını, yaşını ve boyunu (float) input() ile alınız. Bu bilgileri uygun veri tiplerinde değişkenlerde saklayınız ve ekrana anlamlı bir şekilde yazdırınız.\n",
        "ad = input(\"Adınız: \")\n",
        "yas = int(input(\"Yaşınız: \"))\n",
        "boy = float(input(\"Boyunuz (metre): \"))\n",
        "print(\"Adınız:\", ad)\n",
        "print(\"Yaşınız:\", yas)\n",
        "print(\"Boyunuz (metre):\", boy)"
      ]
    },
    {
      "cell_type": "code",
      "execution_count": null,
      "id": "be015441-beda-47a5-bf33-2a87597f332a",
      "metadata": {
        "trusted": true
      },
      "outputs": [],
      "source": [
        "# 2. Bir öğrencinin notlarını (Matematik, Fizik, Kimya) int tipinde değişkenlere atayın. Ortalamasını float tipinde hesaplayıp ekrana yazdırınız.\n",
        "mat = int(input(\"Matematik notu: \"))\n",
        "fizik = int(input(\"Fizik notu: \"))\n",
        "kimya = int(input(\"Kimya notu: \"))\n",
        "print(\"Matematik notu:\", mat)\n",
        "print(\"Fizik notu:\", fizik)\n",
        "print(\"Kimya notu:\", kimya)\n",
        "ortalama = (mat + fizik + kimya) / 3\n",
        "print(\"Ortalamanız:\", float(ortalama))"
      ]
    },
    {
      "cell_type": "code",
      "execution_count": null,
      "id": "35e36b8b-c8a9-454a-b857-a2c5772998c4",
      "metadata": {
        "trusted": true
      },
      "outputs": [],
      "source": [
        "# 3. Bir string değişkeni tanımlayın. Bu stringin ilk ve son karakterini, uzunluğunu ve ters çevrilmiş halini ekrana yazdırınız.\n",
        "metin = \"Python Kodlama\"\n",
        "print(\"İlk karakter:\", metin[0])\n",
        "print(\"Son karakter:\", metin[-1])\n",
        "print(\"Uzunluk:\", len(metin))\n",
        "print(\"Ters:\", metin[::-1])"
      ]
    },
    {
      "cell_type": "markdown",
      "id": "0685e075-7755-4be3-9070-7a6483dcbe4c",
      "metadata": {},
      "source": [
        "BÖLÜM 2"
      ]
    },
    {
      "cell_type": "code",
      "execution_count": null,
      "id": "6b2d9ebf-efde-4375-902e-6feab1175361",
      "metadata": {
        "trusted": true
      },
      "outputs": [],
      "source": [
        "# 4. Kullanıcıdan iki sayı alınız. Bu sayılar üzerinde toplama, çıkarma, çarpma, bölme ve mod işlemleri yapınız.\n",
        "sayi1 = int(input(\"Birinci sayı: \"))\n",
        "sayi2 = int(input(\"İkinci sayı: \"))\n",
        "print(\"Toplam:\", sayi1 + sayi2)\n",
        "print(\"Fark:\", sayi1 - sayi2)\n",
        "print(\"Çarpım:\", sayi1 * sayi2)\n",
        "print(\"Bölüm:\", sayi1 / sayi2)\n",
        "print(\"Mod:\", sayi1 % sayi2)"
      ]
    },
    {
      "cell_type": "code",
      "execution_count": null,
      "id": "3feb22a3-1313-4281-813f-796b0b5438b2",
      "metadata": {
        "trusted": true
      },
      "outputs": [],
      "source": [
        "# 5. Bir öğrencinin ortalaması 50’den büyükse 'Geçti', değilse 'Kaldı' çıktısını veren bir program yazınız. (Karşılaştırma ve mantıksal operatörler kullanılacak.)\n",
        "ortalama = float(input(\"Ortalamanızı giriniz: \"))\n",
        "if ortalama > 50:\n",
        "    print(\"Geçtiniz\")\n",
        "else:\n",
        "    print(\"Kaldınız\")"
      ]
    },
    {
      "cell_type": "code",
      "execution_count": null,
      "id": "3df6a074-2a2a-4415-8a98-8fda42563881",
      "metadata": {
        "trusted": true
      },
      "outputs": [],
      "source": [
        "# 6. Kullanıcıdan yaşını alınız. Eğer yaş 18’den büyükse 'Ehliyet alabilirsiniz', değilse 'Ehliyet alamazsınız' çıktısı veriniz.\n",
        "yas = int(input(\"Yaşınızı giriniz: \"))\n",
        "if yas > 18:\n",
        "    print(\"Ehliyet alabilirsiniz\")\n",
        "else:\n",
        "    print(\"Ehliyet alamazsınız\")"
      ]
    },
    {
      "cell_type": "code",
      "execution_count": null,
      "id": "d76adac6-de1c-462b-9626-073c7fb3d67a",
      "metadata": {
        "trusted": true
      },
      "outputs": [],
      "source": [
        "# 7. Bir ürünün fiyatını (float) ve indirim oranını (yüzde) alınız. İndirimli fiyatı hesaplayıp ekrana yazdırınız. (Aritmetik operatörler kullanılacak.)\n",
        "fiyat = float(input(\"Ürün fiyatı: \"))\n",
        "indirim = float(input(\"İndirim oranı (%): \"))\n",
        "indirimli_fiyat = fiyat - (fiyat * indirim / 100)\n",
        "print(\"İndirimli fiyat:\", indirimli_fiyat)"
      ]
    },
    {
      "cell_type": "code",
      "execution_count": null,
      "id": "832f1698-0419-4211-920a-4775a880e899",
      "metadata": {
        "trusted": true
      },
      "outputs": [],
      "source": [
        "# 8. True ve False değerlerini içeren değişkenlerle mantıksal operatörleri (and, or, not) uygulayarak örnekler yapınız ve sonuçlarını ekrana yazdırınız.\n",
        "a = True\n",
        "b = False\n",
        "print(\"a AND b:\", a and b)\n",
        "print(\"a OR b:\", a or b)\n",
        "print(\"NOT a:\", not a)"
      ]
    },
    {
      "cell_type": "markdown",
      "id": "a8d87b7e-9f7e-4d22-abeb-5453ef9598aa",
      "metadata": {},
      "source": [
        "BÖLÜM 3"
      ]
    },
    {
      "cell_type": "code",
      "execution_count": null,
      "id": "e63632f2-df39-4f7b-9631-af1d3f97e3e7",
      "metadata": {
        "trusted": true
      },
      "outputs": [],
      "source": [
        "\"\"\" 9. Küçük bir alışveriş sepeti uygulaması yapınız:\n",
        "- Kullanıcıdan 3 ürünün fiyatını alınız.\n",
        "- Toplam fiyatı hesaplayınız.\n",
        "- Eğer toplam fiyat 200 TL’den fazlaysa %10 indirim uygulayınız.\n",
        "- Son fiyatı ekrana yazdırınız. \"\"\"\n",
        "\n",
        "fiyat1 = float(input(\"1. ürün fiyatı: \"))\n",
        "fiyat2 = float(input(\"2. ürün fiyatı: \"))\n",
        "fiyat3 = float(input(\"3. ürün fiyatı: \"))\n",
        "print(\"1. ürün fiyatı:\", fiyat1)\n",
        "print(\"2. ürün fiyatı:\", fiyat2)\n",
        "print(\"3. ürün fiyatı:\", fiyat3)\n",
        "toplam = fiyat1 + fiyat2 + fiyat3\n",
        "\n",
        "if toplam > 200:\n",
        "    print(\"Toplam fiyat:\", toplam)\n",
        "    print(\"Toplam fiyat 200 TL'den fazla, %10 indirim kazandınız :)\")\n",
        "    ödenecek = toplam - (toplam * 0.10)\n",
        "\n",
        "print(\"Ödenecek tutar:\", ödenecek)"
      ]
    },
    {
      "cell_type": "code",
      "execution_count": null,
      "id": "e1dde655-335c-4ece-aba8-4e3875cfa122",
      "metadata": {
        "trusted": true
      },
      "outputs": [],
      "source": [
        "\"\"\" 10. Kullanıcıdan doğum yılını alınız. Bu yıl ile güncel yılı kullanarak yaşını hesaplayınız. Yaşına göre şu mesajlardan birini veriniz:\n",
        "- 0-12: 'Çocuksunuz'\n",
        "- 13-17: 'Ergensiniz'\n",
        "- 18 ve üzeri: 'Yetişkinsiniz' \"\"\"\n",
        "\n",
        "dogum_yili = int(input(\"Doğum yılınız: \"))\n",
        "yas = 2025 - dogum_yili\n",
        "\n",
        "if 0 <= yas <= 12:\n",
        "    print(\"Çocuksunuz\")\n",
        "elif 13 <= yas <= 17:\n",
        "    print(\"Ergensiniz\")\n",
        "elif yas >= 18:\n",
        "    print(\"Yetişkinsiniz\")\n",
        "else:\n",
        "    print(\"Geçerli bir yaş girmediniz\")"
      ]
    }
  ],
  "metadata": {
    "kernelspec": {
      "display_name": "Python 3",
      "language": "python",
      "name": "python3"
    },
    "language_info": {
      "codemirror_mode": {
        "name": "ipython",
        "version": 3
      },
      "file_extension": ".py",
      "mimetype": "text/x-python",
      "name": "python",
      "nbconvert_exporter": "python",
      "pygments_lexer": "ipython3",
      "version": "3.13.5"
    }
  },
  "nbformat": 4,
  "nbformat_minor": 5
}
