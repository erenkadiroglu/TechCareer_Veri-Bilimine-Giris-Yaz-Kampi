{
  "nbformat": 4,
  "nbformat_minor": 0,
  "metadata": {
    "colab": {
      "provenance": []
    },
    "kernelspec": {
      "name": "python3",
      "display_name": "Python 3"
    },
    "language_info": {
      "name": "python"
    }
  },
  "cells": [
    {
      "cell_type": "code",
      "execution_count": 1,
      "metadata": {
        "id": "DAhdhPgO-mWy"
      },
      "outputs": [],
      "source": [
        "import numpy as np\n",
        "import pandas as pd\n",
        "import matplotlib.pyplot as plt\n",
        "import seaborn as sns"
      ]
    },
    {
      "cell_type": "markdown",
      "source": [
        "NUMPY BÖLÜMÜ"
      ],
      "metadata": {
        "id": "-7lO4fLz_V8S"
      }
    },
    {
      "cell_type": "code",
      "source": [
        "# 5x5 boyutunda 0-100 arası rastgele tam sayılardan matris\n",
        "matris = np.random.randint(0, 101, size=(5, 5))\n",
        "print(\"Matris:\\n\", matris)\n",
        "\n",
        "# Ortalama, standart sapma, varyans\n",
        "print(\"\\nOrtalama:\", np.mean(matris))\n",
        "print(\"Standart Sapma:\", np.std(matris))\n",
        "print(\"Varyans:\", np.var(matris))\n",
        "\n",
        "# En büyük ve en küçük değer\n",
        "print(\"\\nEn büyük değer:\", np.max(matris))\n",
        "print(\"En küçük değer:\", np.min(matris))\n",
        "\n",
        "# Köşegen toplamı\n",
        "print(\"\\nKöşegen toplamı:\", np.trace(matris))"
      ],
      "metadata": {
        "id": "w3AjCAXS-uvp"
      },
      "execution_count": null,
      "outputs": []
    },
    {
      "cell_type": "code",
      "source": [
        "# Normal dağılımdan gelen 1000 öğrencinin sınav puanı (ortalama=50, std=15)\n",
        "puanlar = np.random.normal(loc=50, scale=15, size=1000)\n",
        "\n",
        "# 0-100 aralığı\n",
        "puanlar = np.clip(puanlar, 0, 100)\n",
        "\n",
        "print(\"\\nOrtalama:\", np.mean(puanlar))\n",
        "print(\"Medyan:\", np.median(puanlar))\n",
        "print(\"Standart Sapma:\", np.std(puanlar))\n",
        "\n",
        "# 50’den düşük alan kaç öğrenci\n",
        "alt_50 = np.sum(puanlar < 50)\n",
        "print(\"50’den düşük alan öğrenci sayısı:\", alt_50)"
      ],
      "metadata": {
        "id": "WtahJX7M-xBg"
      },
      "execution_count": null,
      "outputs": []
    },
    {
      "cell_type": "markdown",
      "source": [
        "PANDAS BÖLÜMÜ"
      ],
      "metadata": {
        "id": "KRTtB2rE-zuw"
      }
    },
    {
      "cell_type": "code",
      "source": [
        "data = {\n",
        "    \"Öğrenci\": [\"Ali\", \"Ayşe\", \"Mehmet\", \"Zeynep\", \"Ahmet\"],\n",
        "    \"Yaş\": [20, 21, 19, 22, 20],\n",
        "    \"Bölüm\": [\"Bilgisayar\", \"Fizik\", \"Kimya\", \"Bilgisayar\", \"Fizik\"],\n",
        "    \"Matematik\": [70, 60, 80, 90, 55],\n",
        "    \"Fizik\": [65, 75, 70, 85, 60],\n",
        "    \"Kimya\": [80, 85, 65, 95, 70]\n",
        "}\n",
        "\n",
        "df = pd.DataFrame(data)\n",
        "print(df)"
      ],
      "metadata": {
        "id": "7ueEilpr-1bk"
      },
      "execution_count": null,
      "outputs": []
    },
    {
      "cell_type": "code",
      "source": [
        "print(\"\\nDerslere göre ortalama puanlar:\")\n",
        "print(df[[\"Matematik\", \"Fizik\", \"Kimya\"]].mean())"
      ],
      "metadata": {
        "id": "rlRjkwUW-5Hf"
      },
      "execution_count": null,
      "outputs": []
    },
    {
      "cell_type": "code",
      "source": [
        "max_math = df.loc[df[\"Matematik\"].idxmax()]\n",
        "print(\"\\nEn yüksek Matematik notunu alan öğrenci:\")\n",
        "print(max_math[\"Öğrenci\"], \"-\", max_math[\"Matematik\"])"
      ],
      "metadata": {
        "id": "j14L_N06-8LV"
      },
      "execution_count": null,
      "outputs": []
    },
    {
      "cell_type": "code",
      "source": [
        "df[\"Ortalama\"] = df[[\"Matematik\", \"Fizik\", \"Kimya\"]].mean(axis=1)\n",
        "print(\"\\nNot ortalaması eklenmiş DataFrame:\")\n",
        "print(df)"
      ],
      "metadata": {
        "id": "jC0A7L8Y-_xy"
      },
      "execution_count": null,
      "outputs": []
    },
    {
      "cell_type": "code",
      "source": [
        "print(\"\\nBölümlere göre ortalama başarılar:\")\n",
        "print(df.groupby(\"Bölüm\")[[\"Matematik\", \"Fizik\", \"Kimya\", \"Ortalama\"]].mean())"
      ],
      "metadata": {
        "id": "ZYOakieQ_CK9"
      },
      "execution_count": null,
      "outputs": []
    },
    {
      "cell_type": "code",
      "source": [
        "print(\"\\nOrtalaması 70’in üzerinde olan öğrenciler:\")\n",
        "print(df[df[\"Ortalama\"] > 70])"
      ],
      "metadata": {
        "id": "f7V67oNr_EAb"
      },
      "execution_count": null,
      "outputs": []
    }
  ]
}