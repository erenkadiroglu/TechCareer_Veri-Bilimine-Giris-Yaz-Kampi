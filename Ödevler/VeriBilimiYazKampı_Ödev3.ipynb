{
  "metadata": {
    "kernelspec": {
      "name": "xpython",
      "display_name": "Python 3.13 (XPython)",
      "language": "python"
    },
    "language_info": {
      "file_extension": ".py",
      "mimetype": "text/x-python",
      "name": "python",
      "version": "3.13.1"
    }
  },
  "nbformat_minor": 5,
  "nbformat": 4,
  "cells": [
    {
      "id": "0dcb32aa-2825-45f6-83ad-9f1ff95050dc",
      "cell_type": "markdown",
      "source": "SORU 1 (Not İşlemleri)",
      "metadata": {}
    },
    {
      "id": "7a00592a-788d-437b-8fa7-fb1a373c2b60",
      "cell_type": "code",
      "source": "notlar = [85, 92, 76, 92, 100, 76, 85, 92]\n\ngüncelListe = []\nfor n in notlar:\n    if n not in güncelListe:\n        güncelListe.append(n)\n\nen_yuksek = max(güncelListe)\nen_dusuk = min(güncelListe)\nsirali = sorted(güncelListe)\n\nprint(\"Güncel Notlar:\", güncelListe)\nprint(\"En Yüksek Not:\", en_yuksek)\nprint(\"En Düşük Not:\", en_dusuk)\nprint(\"Not Sıralaması (küçükten büyüğe):\", sirali)\n",
      "metadata": {
        "trusted": true
      },
      "outputs": [],
      "execution_count": null
    },
    {
      "id": "bfca19be-b72c-4db2-8925-b3ba16b4b98d",
      "cell_type": "markdown",
      "source": "SORU 2 (Armstrong Sayı Kontrolü)\n\nArmstrong Sayı: Her basamağının küpleri toplamı kendisine eşit olan sayılar.",
      "metadata": {}
    },
    {
      "id": "49e58380-f10b-4cb0-a592-27ea9283b3b6",
      "cell_type": "code",
      "source": "def armstrong_mu(sayi):\n    a = str(sayi)\n    toplam = sum(int(d)**3 for d in a)  # Alınan stringin her elemanının küplerini toplama formulü \n    return toplam == sayi\n\nfor x in [153, 340, 391, 1474, 9675]:\n    print(x, \"->\", armstrong_mu(x))\n",
      "metadata": {
        "trusted": true
      },
      "outputs": [],
      "execution_count": null
    },
    {
      "id": "52b61def-5f04-4767-b2ad-480649513574",
      "cell_type": "markdown",
      "source": "SORU 3 (Küme İşlemleri)",
      "metadata": {}
    },
    {
      "id": "e18bd809-74d5-4f09-987c-096f37717956",
      "cell_type": "code",
      "source": "A = {\"Python\", \"R\", \"SQL\", \"Java\"}\nB = {\"C++\", \"Python\", \"JavaScript\", \"SQL\"}\n\n# Ortak elemanlar\nortak = []\nfor a in A:\n    if a in B:\n        ortak.append(a)\n\n# Sadece A’da olanlar\nsadece_A = []\nfor a in A:\n    if a not in B:\n        sadece_A.append(a)\n\n# Birleşim (A+B)\nbirlesim = []\nfor a in A:\n    if a not in birlesim:\n        birlesim.append(a)\nfor b in B:\n    if b not in birlesim:\n        birlesim.append(b)\n\n# Alfabetik sıralama\nbirlesim = sorted(birlesim)\n\nprint(\"Ortak Olanların Kümesi:\", ortak)\nprint(\"Sadece A kümesinde olanlar:\", sadece_A)\nprint(\"Birleşim Kümesinin Alfabetik Sıralaması:\", birlesim)\n\n",
      "metadata": {
        "trusted": true
      },
      "outputs": [],
      "execution_count": null
    },
    {
      "id": "dcd8ee0e-76a5-4c58-9812-d93e76117a50",
      "cell_type": "markdown",
      "source": "SORU 4 (Rastgele 10 Sayının Ortalama ve Standart Sapma Hesabı)",
      "metadata": {}
    },
    {
      "id": "749f8b54-9a29-486f-8c9a-cc9381480690",
      "cell_type": "code",
      "source": "import random\nimport statistics\n\nrandom_sayilar = [random.randint(1, 100) for _ in range(10)]\nortalama = statistics.mean(random_sayilar)\nstdsapma = statistics.stdev(random_sayilar)\n\nprint(\"Sayılar:\", random_sayilar)\nprint(\"Ortalama:\", ortalama)\nprint(\"Standart sapma:\", stdsapma)",
      "metadata": {
        "trusted": true
      },
      "outputs": [],
      "execution_count": null
    },
    {
      "id": "b2fd9b46-8c32-4c3a-b91c-af7f2814d8e9",
      "cell_type": "markdown",
      "source": "SORU 5 (Fonksiyon İşlemleri)",
      "metadata": {}
    },
    {
      "id": "3826f4bb-2f95-4f8e-b5c9-f4fb4d639ffe",
      "cell_type": "code",
      "source": "def kelime_sayaci(metin):\n    temiz = \"\"\n    for ch in metin:\n        if ch.isalnum() or ch.isspace():\n            temiz += ch.lower()   # küçük harfe çevirmek için\n    kelimeler = temiz.split()     # boşluklardan ayırmak için\n\n    # Toplam kelime sayısı\n    toplam = len(kelimeler)\n\n    # En uzun kelime\n    en_uzun = \"\"\n    for k in kelimeler:\n        if len(k) > len(en_uzun):\n            en_uzun = k\n\n    # En sık geçen kelime\n    en_sik_kelime = \"\"\n    en_sik_sayi = 0\n    for k in kelimeler:\n        adet = kelimeler.count(k)\n        if adet > en_sik_sayi:\n            en_sik_sayi = adet\n            en_sik_kelime = k\n\n    return {\"Toplam Kelime Sayısı\": toplam, \"En Uzun Kelime\": en_uzun, \"En Sık Kullanılan Kelime ve Sayı\": (en_sik_kelime, en_sik_sayi)}\n\nmetin = input(\"Bir metin giriniz: \")\nsonuc = kelime_sayaci(metin)\nprint(sonuc)\n",
      "metadata": {
        "trusted": true
      },
      "outputs": [],
      "execution_count": null
    },
    {
      "id": "0beb7df9-2dd7-4daa-bac0-e16cd7cdbb1e",
      "cell_type": "markdown",
      "source": "SORU 6 (Gömülü Fonksiyonlar)",
      "metadata": {}
    },
    {
      "id": "d83c4bf0-8624-4066-862d-3bc78e85ef86",
      "cell_type": "code",
      "source": "sayilar = [5, 12, 7, 18, 24, 3, 16]\n\n# Çift sayılar\nciftler = list(filter(lambda x: x % 2 == 0, sayilar))\n# Çift sayıların kareleri\nkareler = list(map(lambda x: x**2, ciftler))\n# Kareleri sıralama (azalan sırada)\nkareler_azalan = sorted(kareler, reverse=True)\n\nprint(\"Çift Olan Sayılar:\", ciftler)\nprint(\"Çift Sayıların Kareleri:\", kareler)\nprint(\"Çift Sayıların Karelerinin Sıralaması (azalan):\", kareler_azalan)\n",
      "metadata": {
        "trusted": true
      },
      "outputs": [],
      "execution_count": null
    },
    {
      "id": "34b21a3a-d317-4178-a82b-46fa3f5341f4",
      "cell_type": "markdown",
      "source": "SORU 7 (Lambda İfadeleri)",
      "metadata": {}
    },
    {
      "id": "8049e763-e784-4445-afbd-4a129ce13a69",
      "cell_type": "code",
      "source": "kelimeler = [\"veri\", \"bilim\", \"analiz\", \"yapayzeka\", \"python\"]\nsirali = sorted(kelimeler, key=lambda w: len(w))\nprint(sirali)",
      "metadata": {
        "trusted": true
      },
      "outputs": [],
      "execution_count": null
    },
    {
      "id": "3b7899f4-c687-441f-ad96-7cc6618271cf",
      "cell_type": "markdown",
      "source": "SORU 8 (Metodlar - String İçerisindeki Rakamların Toplamını Yazdırma)",
      "metadata": {}
    },
    {
      "id": "c3f821d3-eb89-456d-ae95-cd8dddd6b005",
      "cell_type": "code",
      "source": "def rakamlarin_toplami(s):\n    toplam = 0\n    sayi = \"\"\n    for ch in s:\n        if ch.isdigit():\n            sayi += ch\n        else:\n            if sayi != \"\":\n                toplam += int(sayi)\n                sayi = \"\"\n    if sayi != \"\":\n        toplam += int(sayi)\n    return toplam\n\nmetin = input(\"Bir metin giriniz: \")\nprint(\"Rakamların toplamı:\", rakamlarin_toplami(metin))\n",
      "metadata": {
        "trusted": true
      },
      "outputs": [],
      "execution_count": null
    }
  ]
}